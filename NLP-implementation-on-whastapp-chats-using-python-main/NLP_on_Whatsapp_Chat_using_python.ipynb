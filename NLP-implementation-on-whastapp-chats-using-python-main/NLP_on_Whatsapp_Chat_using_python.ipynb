{
  "cells": [
    {
      "cell_type": "markdown",
      "metadata": {
        "id": "8ZCr2FuVb8Vy"
      },
      "source": [
        "## **WhatsApp Chat Analysis using Python**\n",
        "\n",
        "This notebook was built to analyze Whatsapp conversations using the steps below:\n",
        "  * Step 1: Detecting {Date} and {Time} tokens\n",
        "  * Step 2: Detecting the {Author} token\n",
        "  * Step 3: Extracting and Combining tokens\n",
        "  * Step 4: Parsing the entire file and handling Multi-Line Messages\n",
        "\n",
        "> For further steps, we need to perform Exploratory data analysis (EDA)\n",
        "\n",
        "  * Step 5: Performing EDA for analyzing chat data\n",
        "  * Step 6: Overall statistics of WhatsApp chat including Total number of\n",
        "  messages, media messages(Omitted) & Total number of URLs\n",
        "  * Step 7: Extracting basic statistics for each Author (user)\n",
        "  * Step 8: Word cloud of most used words in chat\n",
        "  * Step 9: Total number of messages sent by each user\n",
        "  * Step 10: Total messages sent on each day of the week\n",
        "  * Step 11: Most active author of the chat\n",
        "  * Step 12: Most active day in a week\n",
        "\n",
        "\n",
        "> In next steps, Time series analysis will be performed on chat data\n",
        "\n",
        "  * Step 13: Time whenever the chat was highly active \n",
        "  * Step 14: Date on which the chat was highly active\n",
        "  * Step 15: Converting 12-hour formate to 24 hours will help us for better analysis\n",
        "  * Step 16: Most suitable hour of the day whenever there will be more chances of getting a response from user\n",
        "\n"
      ]
    },
    {
      "cell_type": "code",
      "execution_count": 1,
      "metadata": {
        "colab": {
          "base_uri": "https://localhost:8080/"
        },
        "id": "oXltm8H3byQz",
        "outputId": "551f2b81-f0f0-493d-c67d-132c398ffd9c"
      },
      "outputs": [
        {
          "name": "stdout",
          "output_type": "stream",
          "text": [
            "Requirement already satisfied: emoji in c:\\users\\asus\\anaconda3\\lib\\site-packages (2.10.0)\n",
            "Requirement already satisfied: seaborn in c:\\users\\asus\\anaconda3\\lib\\site-packages (0.11.2)\n",
            "Requirement already satisfied: matplotlib>=2.2 in c:\\users\\asus\\anaconda3\\lib\\site-packages (from seaborn) (3.5.1)\n",
            "Requirement already satisfied: pandas>=0.23 in c:\\users\\asus\\anaconda3\\lib\\site-packages (from seaborn) (1.4.2)\n",
            "Requirement already satisfied: numpy>=1.15 in c:\\users\\asus\\anaconda3\\lib\\site-packages (from seaborn) (1.21.5)\n",
            "Requirement already satisfied: scipy>=1.0 in c:\\users\\asus\\anaconda3\\lib\\site-packages (from seaborn) (1.7.3)\n",
            "Requirement already satisfied: python-dateutil>=2.7 in c:\\users\\asus\\anaconda3\\lib\\site-packages (from matplotlib>=2.2->seaborn) (2.8.2)\n",
            "Requirement already satisfied: cycler>=0.10 in c:\\users\\asus\\anaconda3\\lib\\site-packages (from matplotlib>=2.2->seaborn) (0.11.0)\n",
            "Requirement already satisfied: kiwisolver>=1.0.1 in c:\\users\\asus\\anaconda3\\lib\\site-packages (from matplotlib>=2.2->seaborn) (1.3.2)\n",
            "Requirement already satisfied: packaging>=20.0 in c:\\users\\asus\\anaconda3\\lib\\site-packages (from matplotlib>=2.2->seaborn) (21.3)\n",
            "Requirement already satisfied: pyparsing>=2.2.1 in c:\\users\\asus\\anaconda3\\lib\\site-packages (from matplotlib>=2.2->seaborn) (3.0.4)\n",
            "Requirement already satisfied: fonttools>=4.22.0 in c:\\users\\asus\\anaconda3\\lib\\site-packages (from matplotlib>=2.2->seaborn) (4.25.0)\n",
            "Requirement already satisfied: pillow>=6.2.0 in c:\\users\\asus\\anaconda3\\lib\\site-packages (from matplotlib>=2.2->seaborn) (9.0.1)\n",
            "Requirement already satisfied: pytz>=2020.1 in c:\\users\\asus\\anaconda3\\lib\\site-packages (from pandas>=0.23->seaborn) (2021.3)\n",
            "Requirement already satisfied: six>=1.5 in c:\\users\\asus\\anaconda3\\lib\\site-packages (from python-dateutil>=2.7->matplotlib>=2.2->seaborn) (1.16.0)\n"
          ]
        }
      ],
      "source": [
        "!pip install emoji\n",
        "!pip install seaborn\n"
      ]
    },
    {
      "cell_type": "markdown",
      "metadata": {
        "id": "uPhEzoiB-cgV"
      },
      "source": [
        "# Import all necessory libraries"
      ]
    },
    {
      "cell_type": "code",
      "execution_count": 2,
      "metadata": {},
      "outputs": [
        {
          "name": "stdout",
          "output_type": "stream",
          "text": [
            "Requirement already satisfied: wordcloud in c:\\users\\asus\\anaconda3\\lib\\site-packages (1.9.3)\n",
            "Requirement already satisfied: pillow in c:\\users\\asus\\anaconda3\\lib\\site-packages (from wordcloud) (9.0.1)\n",
            "Requirement already satisfied: numpy>=1.6.1 in c:\\users\\asus\\anaconda3\\lib\\site-packages (from wordcloud) (1.21.5)\n",
            "Requirement already satisfied: matplotlib in c:\\users\\asus\\anaconda3\\lib\\site-packages (from wordcloud) (3.5.1)\n",
            "Requirement already satisfied: packaging>=20.0 in c:\\users\\asus\\anaconda3\\lib\\site-packages (from matplotlib->wordcloud) (21.3)\n",
            "Requirement already satisfied: kiwisolver>=1.0.1 in c:\\users\\asus\\anaconda3\\lib\\site-packages (from matplotlib->wordcloud) (1.3.2)\n",
            "Requirement already satisfied: pyparsing>=2.2.1 in c:\\users\\asus\\anaconda3\\lib\\site-packages (from matplotlib->wordcloud) (3.0.4)\n",
            "Requirement already satisfied: fonttools>=4.22.0 in c:\\users\\asus\\anaconda3\\lib\\site-packages (from matplotlib->wordcloud) (4.25.0)\n",
            "Requirement already satisfied: cycler>=0.10 in c:\\users\\asus\\anaconda3\\lib\\site-packages (from matplotlib->wordcloud) (0.11.0)\n",
            "Requirement already satisfied: python-dateutil>=2.7 in c:\\users\\asus\\anaconda3\\lib\\site-packages (from matplotlib->wordcloud) (2.8.2)\n",
            "Requirement already satisfied: six>=1.5 in c:\\users\\asus\\anaconda3\\lib\\site-packages (from python-dateutil>=2.7->matplotlib->wordcloud) (1.16.0)\n",
            "Note: you may need to restart the kernel to use updated packages.\n"
          ]
        }
      ],
      "source": [
        "pip install wordcloud"
      ]
    },
    {
      "cell_type": "code",
      "execution_count": 3,
      "metadata": {
        "colab": {
          "base_uri": "https://localhost:8080/"
        },
        "id": "2BOWYthiJjAq",
        "outputId": "c51314fc-7c1f-4e2f-965f-8ea5088a84db"
      },
      "outputs": [
        {
          "name": "stdout",
          "output_type": "stream",
          "text": [
            "Requirement already satisfied: emoji in c:\\users\\asus\\anaconda3\\lib\\site-packages (2.10.0)\n"
          ]
        }
      ],
      "source": [
        "import regex\n",
        "import pandas as pd\n",
        "import numpy as np\n",
        "!pip install emoji\n",
        "import emoji\n",
        "from collections import Counter\n",
        "import matplotlib.pyplot as plt\n",
        "from wordcloud import WordCloud, STOPWORDS, ImageColorGenerator\n",
        "from matplotlib.ticker import MaxNLocator\n",
        "from plotly import express as px\n",
        "import seaborn as sns\n",
        "from datetime import *\n",
        "import datetime as dt"
      ]
    },
    {
      "cell_type": "markdown",
      "metadata": {
        "id": "TToBf2LP9tmr"
      },
      "source": [
        "# Step 1: Detecting {Date} and {Time} tokens"
      ]
    },
    {
      "cell_type": "code",
      "execution_count": 4,
      "metadata": {
        "id": "9nY4w8AcKGIj"
      },
      "outputs": [],
      "source": [
        "def startsWithDate(s):\n",
        "    pattern = '^([0-9]+)(\\/)([0-9]+)(\\/)([0-9]+), ([0-9]+):([0-9]+)[ ]?(AM|PM|am|pm)? -'\n",
        "    result = regex.match(pattern, s)\n",
        "    if result:\n",
        "        return True\n",
        "    return False\n"
      ]
    },
    {
      "cell_type": "markdown",
      "metadata": {
        "id": "pdMaPOUb90R9"
      },
      "source": [
        "# Step 2: Detecting the {Author} token"
      ]
    },
    {
      "cell_type": "code",
      "execution_count": 5,
      "metadata": {
        "id": "D_PPmOvc98ty"
      },
      "outputs": [],
      "source": [
        "def startsWithAuthor(s):\n",
        "    patterns = [\n",
        "        '([\\w]+):',                        # First Name\n",
        "        '([\\w]+[\\s]+[\\w]+):',              # First Name + Last Name\n",
        "        '([\\w]+[\\s]+[\\w]+[\\s]+[\\w]+):',    # First Name + Middle Name + Last Name\n",
        "        '([+]\\d{2} \\d{5} \\d{5}):',         # Mobile Number (India)\n",
        "        '([+]\\d{2} \\d{3} \\d{3} \\d{4}):',   # Mobile Number (US)\n",
        "        '([+]\\d{2} \\d{4} \\d{7})'           # Mobile Number (Europe)\n",
        "    ]\n",
        "    pattern = '^' + '|'.join(patterns)\n",
        "    result = regex.match(pattern, s)\n",
        "    if result:\n",
        "        return True\n",
        "    return False"
      ]
    },
    {
      "cell_type": "markdown",
      "metadata": {
        "id": "v8tDcQnE-A0W"
      },
      "source": [
        "# Step 3: Extracting and Combining tokens"
      ]
    },
    {
      "cell_type": "code",
      "execution_count": 6,
      "metadata": {
        "id": "mCSgU2jV-G4I"
      },
      "outputs": [],
      "source": [
        "def getDatapoint(line):\n",
        "    splitline = line.split(' - ')\n",
        "    dateTime = splitline[0]\n",
        "    date, time = dateTime.split(\", \")\n",
        "    message = \" \".join(splitline[1:])\n",
        "    if startsWithAuthor(message):\n",
        "        splitmessage = message.split(\": \")\n",
        "        author = splitmessage[0]\n",
        "        message = \" \".join(splitmessage[1:])\n",
        "    else:\n",
        "        author= None\n",
        "    return date, time, author, message"
      ]
    },
    {
      "cell_type": "markdown",
      "metadata": {
        "id": "wbP0hiKd-QD3"
      },
      "source": [
        "# Step 4: Parsing the entire file and handling Multi-Line Messages"
      ]
    },
    {
      "cell_type": "code",
      "execution_count": 8,
      "metadata": {
        "id": "CipZZGAgJsBx"
      },
      "outputs": [],
      "source": [
        "data = []\n",
        "conversation = 'Updated_chat_data.txt'\n",
        "with open(conversation, encoding=\"utf-8\") as fp:\n",
        "    fp.readline()\n",
        "    messageBuffer = []\n",
        "    date, time, author = None, None, None\n",
        "    while True:\n",
        "        line = fp.readline()\n",
        "        if not line:\n",
        "            break\n",
        "        line = line.strip()\n",
        "        if startsWithDate(line):\n",
        "            if len(messageBuffer) > 0:\n",
        "                data.append([date, time, author, ' '.join(messageBuffer)])\n",
        "            messageBuffer.clear()\n",
        "            date, time, author, message = getDatapoint(line)\n",
        "            messageBuffer.append(message)\n",
        "        else:\n",
        "            messageBuffer.append(line)"
      ]
    },
    {
      "cell_type": "code",
      "execution_count": 9,
      "metadata": {
        "id": "uJ4e75D4KkVl"
      },
      "outputs": [
        {
          "name": "stderr",
          "output_type": "stream",
          "text": [
            "c:\\Users\\ASUS\\anaconda3\\lib\\site-packages\\pandas\\core\\tools\\datetimes.py:1047: UserWarning: Parsing '23/04/2020' in DD/MM/YYYY format. Provide format or specify infer_datetime_format=True for consistent parsing.\n",
            "  cache_array = _maybe_cache(arg, format, cache, convert_listlike)\n",
            "c:\\Users\\ASUS\\anaconda3\\lib\\site-packages\\pandas\\core\\tools\\datetimes.py:1047: UserWarning: Parsing '24/04/2020' in DD/MM/YYYY format. Provide format or specify infer_datetime_format=True for consistent parsing.\n",
            "  cache_array = _maybe_cache(arg, format, cache, convert_listlike)\n",
            "c:\\Users\\ASUS\\anaconda3\\lib\\site-packages\\pandas\\core\\tools\\datetimes.py:1047: UserWarning: Parsing '26/04/2020' in DD/MM/YYYY format. Provide format or specify infer_datetime_format=True for consistent parsing.\n",
            "  cache_array = _maybe_cache(arg, format, cache, convert_listlike)\n",
            "c:\\Users\\ASUS\\anaconda3\\lib\\site-packages\\pandas\\core\\tools\\datetimes.py:1047: UserWarning: Parsing '27/04/2020' in DD/MM/YYYY format. Provide format or specify infer_datetime_format=True for consistent parsing.\n",
            "  cache_array = _maybe_cache(arg, format, cache, convert_listlike)\n",
            "c:\\Users\\ASUS\\anaconda3\\lib\\site-packages\\pandas\\core\\tools\\datetimes.py:1047: UserWarning: Parsing '28/04/2020' in DD/MM/YYYY format. Provide format or specify infer_datetime_format=True for consistent parsing.\n",
            "  cache_array = _maybe_cache(arg, format, cache, convert_listlike)\n",
            "c:\\Users\\ASUS\\anaconda3\\lib\\site-packages\\pandas\\core\\tools\\datetimes.py:1047: UserWarning: Parsing '29/04/2020' in DD/MM/YYYY format. Provide format or specify infer_datetime_format=True for consistent parsing.\n",
            "  cache_array = _maybe_cache(arg, format, cache, convert_listlike)\n",
            "c:\\Users\\ASUS\\anaconda3\\lib\\site-packages\\pandas\\core\\tools\\datetimes.py:1047: UserWarning: Parsing '27/05/2020' in DD/MM/YYYY format. Provide format or specify infer_datetime_format=True for consistent parsing.\n",
            "  cache_array = _maybe_cache(arg, format, cache, convert_listlike)\n",
            "c:\\Users\\ASUS\\anaconda3\\lib\\site-packages\\pandas\\core\\tools\\datetimes.py:1047: UserWarning: Parsing '16/06/2020' in DD/MM/YYYY format. Provide format or specify infer_datetime_format=True for consistent parsing.\n",
            "  cache_array = _maybe_cache(arg, format, cache, convert_listlike)\n",
            "c:\\Users\\ASUS\\anaconda3\\lib\\site-packages\\pandas\\core\\tools\\datetimes.py:1047: UserWarning: Parsing '17/06/2020' in DD/MM/YYYY format. Provide format or specify infer_datetime_format=True for consistent parsing.\n",
            "  cache_array = _maybe_cache(arg, format, cache, convert_listlike)\n",
            "c:\\Users\\ASUS\\anaconda3\\lib\\site-packages\\pandas\\core\\tools\\datetimes.py:1047: UserWarning: Parsing '18/06/2020' in DD/MM/YYYY format. Provide format or specify infer_datetime_format=True for consistent parsing.\n",
            "  cache_array = _maybe_cache(arg, format, cache, convert_listlike)\n",
            "c:\\Users\\ASUS\\anaconda3\\lib\\site-packages\\pandas\\core\\tools\\datetimes.py:1047: UserWarning: Parsing '23/06/2020' in DD/MM/YYYY format. Provide format or specify infer_datetime_format=True for consistent parsing.\n",
            "  cache_array = _maybe_cache(arg, format, cache, convert_listlike)\n",
            "c:\\Users\\ASUS\\anaconda3\\lib\\site-packages\\pandas\\core\\tools\\datetimes.py:1047: UserWarning: Parsing '24/06/2020' in DD/MM/YYYY format. Provide format or specify infer_datetime_format=True for consistent parsing.\n",
            "  cache_array = _maybe_cache(arg, format, cache, convert_listlike)\n",
            "c:\\Users\\ASUS\\anaconda3\\lib\\site-packages\\pandas\\core\\tools\\datetimes.py:1047: UserWarning: Parsing '14/07/2020' in DD/MM/YYYY format. Provide format or specify infer_datetime_format=True for consistent parsing.\n",
            "  cache_array = _maybe_cache(arg, format, cache, convert_listlike)\n",
            "c:\\Users\\ASUS\\anaconda3\\lib\\site-packages\\pandas\\core\\tools\\datetimes.py:1047: UserWarning: Parsing '15/07/2020' in DD/MM/YYYY format. Provide format or specify infer_datetime_format=True for consistent parsing.\n",
            "  cache_array = _maybe_cache(arg, format, cache, convert_listlike)\n",
            "c:\\Users\\ASUS\\anaconda3\\lib\\site-packages\\pandas\\core\\tools\\datetimes.py:1047: UserWarning: Parsing '17/07/2020' in DD/MM/YYYY format. Provide format or specify infer_datetime_format=True for consistent parsing.\n",
            "  cache_array = _maybe_cache(arg, format, cache, convert_listlike)\n",
            "c:\\Users\\ASUS\\anaconda3\\lib\\site-packages\\pandas\\core\\tools\\datetimes.py:1047: UserWarning: Parsing '22/07/2020' in DD/MM/YYYY format. Provide format or specify infer_datetime_format=True for consistent parsing.\n",
            "  cache_array = _maybe_cache(arg, format, cache, convert_listlike)\n",
            "c:\\Users\\ASUS\\anaconda3\\lib\\site-packages\\pandas\\core\\tools\\datetimes.py:1047: UserWarning: Parsing '23/07/2020' in DD/MM/YYYY format. Provide format or specify infer_datetime_format=True for consistent parsing.\n",
            "  cache_array = _maybe_cache(arg, format, cache, convert_listlike)\n",
            "c:\\Users\\ASUS\\anaconda3\\lib\\site-packages\\pandas\\core\\tools\\datetimes.py:1047: UserWarning: Parsing '23/08/2020' in DD/MM/YYYY format. Provide format or specify infer_datetime_format=True for consistent parsing.\n",
            "  cache_array = _maybe_cache(arg, format, cache, convert_listlike)\n",
            "c:\\Users\\ASUS\\anaconda3\\lib\\site-packages\\pandas\\core\\tools\\datetimes.py:1047: UserWarning: Parsing '26/08/2020' in DD/MM/YYYY format. Provide format or specify infer_datetime_format=True for consistent parsing.\n",
            "  cache_array = _maybe_cache(arg, format, cache, convert_listlike)\n",
            "c:\\Users\\ASUS\\anaconda3\\lib\\site-packages\\pandas\\core\\tools\\datetimes.py:1047: UserWarning: Parsing '15/09/2020' in DD/MM/YYYY format. Provide format or specify infer_datetime_format=True for consistent parsing.\n",
            "  cache_array = _maybe_cache(arg, format, cache, convert_listlike)\n",
            "c:\\Users\\ASUS\\anaconda3\\lib\\site-packages\\pandas\\core\\tools\\datetimes.py:1047: UserWarning: Parsing '16/09/2020' in DD/MM/YYYY format. Provide format or specify infer_datetime_format=True for consistent parsing.\n",
            "  cache_array = _maybe_cache(arg, format, cache, convert_listlike)\n",
            "c:\\Users\\ASUS\\anaconda3\\lib\\site-packages\\pandas\\core\\tools\\datetimes.py:1047: UserWarning: Parsing '18/09/2020' in DD/MM/YYYY format. Provide format or specify infer_datetime_format=True for consistent parsing.\n",
            "  cache_array = _maybe_cache(arg, format, cache, convert_listlike)\n",
            "c:\\Users\\ASUS\\anaconda3\\lib\\site-packages\\pandas\\core\\tools\\datetimes.py:1047: UserWarning: Parsing '20/09/2020' in DD/MM/YYYY format. Provide format or specify infer_datetime_format=True for consistent parsing.\n",
            "  cache_array = _maybe_cache(arg, format, cache, convert_listlike)\n",
            "c:\\Users\\ASUS\\anaconda3\\lib\\site-packages\\pandas\\core\\tools\\datetimes.py:1047: UserWarning: Parsing '21/09/2020' in DD/MM/YYYY format. Provide format or specify infer_datetime_format=True for consistent parsing.\n",
            "  cache_array = _maybe_cache(arg, format, cache, convert_listlike)\n"
          ]
        }
      ],
      "source": [
        "df = pd.DataFrame(data, columns=[\"Date\", 'Time', 'Author', 'Message'])\n",
        "df['Date'] = pd.to_datetime(df['Date'])"
      ]
    },
    {
      "cell_type": "code",
      "execution_count": 10,
      "metadata": {
        "colab": {
          "base_uri": "https://localhost:8080/",
          "height": 419
        },
        "id": "j8ktNgS_Lgus",
        "outputId": "f0cd787c-ff5e-42bc-fcd8-4033199f674c"
      },
      "outputs": [
        {
          "data": {
            "text/html": [
              "<div>\n",
              "<style scoped>\n",
              "    .dataframe tbody tr th:only-of-type {\n",
              "        vertical-align: middle;\n",
              "    }\n",
              "\n",
              "    .dataframe tbody tr th {\n",
              "        vertical-align: top;\n",
              "    }\n",
              "\n",
              "    .dataframe thead th {\n",
              "        text-align: right;\n",
              "    }\n",
              "</style>\n",
              "<table border=\"1\" class=\"dataframe\">\n",
              "  <thead>\n",
              "    <tr style=\"text-align: right;\">\n",
              "      <th></th>\n",
              "      <th>Date</th>\n",
              "      <th>Time</th>\n",
              "      <th>Author</th>\n",
              "      <th>Message</th>\n",
              "    </tr>\n",
              "  </thead>\n",
              "  <tbody>\n",
              "    <tr>\n",
              "      <th>0</th>\n",
              "      <td>2020-05-02</td>\n",
              "      <td>10:00 am</td>\n",
              "      <td>Ed</td>\n",
              "      <td>We share our knowledge here and pass year</td>\n",
              "    </tr>\n",
              "    <tr>\n",
              "      <th>1</th>\n",
              "      <td>2020-05-02</td>\n",
              "      <td>10:01 am</td>\n",
              "      <td>Ed</td>\n",
              "      <td>&lt;Media omitted&gt;</td>\n",
              "    </tr>\n",
              "    <tr>\n",
              "      <th>2</th>\n",
              "      <td>2020-05-02</td>\n",
              "      <td>10:01 am</td>\n",
              "      <td>Ed</td>\n",
              "      <td>Easy to communicate 🤣🤣🤣</td>\n",
              "    </tr>\n",
              "    <tr>\n",
              "      <th>3</th>\n",
              "      <td>2020-05-02</td>\n",
              "      <td>10:01 am</td>\n",
              "      <td>Rohit</td>\n",
              "      <td>💪🏾</td>\n",
              "    </tr>\n",
              "    <tr>\n",
              "      <th>4</th>\n",
              "      <td>2020-05-02</td>\n",
              "      <td>10:01 am</td>\n",
              "      <td>Rohit</td>\n",
              "      <td>yeah</td>\n",
              "    </tr>\n",
              "    <tr>\n",
              "      <th>...</th>\n",
              "      <td>...</td>\n",
              "      <td>...</td>\n",
              "      <td>...</td>\n",
              "      <td>...</td>\n",
              "    </tr>\n",
              "    <tr>\n",
              "      <th>4691</th>\n",
              "      <td>2020-09-20</td>\n",
              "      <td>5:32 pm</td>\n",
              "      <td>Ed</td>\n",
              "      <td>who have finish math lecture ?</td>\n",
              "    </tr>\n",
              "    <tr>\n",
              "      <th>4692</th>\n",
              "      <td>2020-09-21</td>\n",
              "      <td>2:25 pm</td>\n",
              "      <td>Ed</td>\n",
              "      <td>You deleted this message</td>\n",
              "    </tr>\n",
              "    <tr>\n",
              "      <th>4693</th>\n",
              "      <td>2020-09-21</td>\n",
              "      <td>2:26 pm</td>\n",
              "      <td>Ed</td>\n",
              "      <td>&lt;Media omitted&gt;</td>\n",
              "    </tr>\n",
              "    <tr>\n",
              "      <th>4694</th>\n",
              "      <td>2020-09-21</td>\n",
              "      <td>2:26 pm</td>\n",
              "      <td>Rohit</td>\n",
              "      <td>onz onz</td>\n",
              "    </tr>\n",
              "    <tr>\n",
              "      <th>4695</th>\n",
              "      <td>2020-09-21</td>\n",
              "      <td>2:26 pm</td>\n",
              "      <td>Ed</td>\n",
              "      <td>This is what I call English song. Good old fays</td>\n",
              "    </tr>\n",
              "  </tbody>\n",
              "</table>\n",
              "<p>4696 rows × 4 columns</p>\n",
              "</div>"
            ],
            "text/plain": [
              "           Date      Time Author  \\\n",
              "0    2020-05-02  10:00 am     Ed   \n",
              "1    2020-05-02  10:01 am     Ed   \n",
              "2    2020-05-02  10:01 am     Ed   \n",
              "3    2020-05-02  10:01 am  Rohit   \n",
              "4    2020-05-02  10:01 am  Rohit   \n",
              "...         ...       ...    ...   \n",
              "4691 2020-09-20   5:32 pm     Ed   \n",
              "4692 2020-09-21   2:25 pm     Ed   \n",
              "4693 2020-09-21   2:26 pm     Ed   \n",
              "4694 2020-09-21   2:26 pm  Rohit   \n",
              "4695 2020-09-21   2:26 pm     Ed   \n",
              "\n",
              "                                              Message  \n",
              "0           We share our knowledge here and pass year  \n",
              "1                                     <Media omitted>  \n",
              "2                             Easy to communicate 🤣🤣🤣  \n",
              "3                                                  💪🏾  \n",
              "4                                                yeah  \n",
              "...                                               ...  \n",
              "4691                   who have finish math lecture ?  \n",
              "4692                         You deleted this message  \n",
              "4693                                  <Media omitted>  \n",
              "4694                                          onz onz  \n",
              "4695  This is what I call English song. Good old fays  \n",
              "\n",
              "[4696 rows x 4 columns]"
            ]
          },
          "execution_count": 10,
          "metadata": {},
          "output_type": "execute_result"
        }
      ],
      "source": [
        "df"
      ]
    },
    {
      "cell_type": "code",
      "execution_count": 11,
      "metadata": {
        "colab": {
          "base_uri": "https://localhost:8080/",
          "height": 669
        },
        "id": "hu87gex-LplC",
        "outputId": "a3706015-2273-4cb5-c7da-5bd907d1398f"
      },
      "outputs": [
        {
          "data": {
            "text/html": [
              "<div>\n",
              "<style scoped>\n",
              "    .dataframe tbody tr th:only-of-type {\n",
              "        vertical-align: middle;\n",
              "    }\n",
              "\n",
              "    .dataframe tbody tr th {\n",
              "        vertical-align: top;\n",
              "    }\n",
              "\n",
              "    .dataframe thead th {\n",
              "        text-align: right;\n",
              "    }\n",
              "</style>\n",
              "<table border=\"1\" class=\"dataframe\">\n",
              "  <thead>\n",
              "    <tr style=\"text-align: right;\">\n",
              "      <th></th>\n",
              "      <th>Date</th>\n",
              "      <th>Time</th>\n",
              "      <th>Author</th>\n",
              "      <th>Message</th>\n",
              "    </tr>\n",
              "  </thead>\n",
              "  <tbody>\n",
              "    <tr>\n",
              "      <th>4676</th>\n",
              "      <td>2020-09-18</td>\n",
              "      <td>7:51 pm</td>\n",
              "      <td>Ed</td>\n",
              "      <td>😂 😂</td>\n",
              "    </tr>\n",
              "    <tr>\n",
              "      <th>4677</th>\n",
              "      <td>2020-09-18</td>\n",
              "      <td>7:51 pm</td>\n",
              "      <td>Rohit</td>\n",
              "      <td>She marking maybe</td>\n",
              "    </tr>\n",
              "    <tr>\n",
              "      <th>4678</th>\n",
              "      <td>2020-09-18</td>\n",
              "      <td>7:51 pm</td>\n",
              "      <td>Rohit</td>\n",
              "      <td>G3 few only marked right</td>\n",
              "    </tr>\n",
              "    <tr>\n",
              "      <th>4679</th>\n",
              "      <td>2020-09-18</td>\n",
              "      <td>7:51 pm</td>\n",
              "      <td>Rohit</td>\n",
              "      <td>I saw morning like 3 groups only</td>\n",
              "    </tr>\n",
              "    <tr>\n",
              "      <th>4680</th>\n",
              "      <td>2020-09-20</td>\n",
              "      <td>12:51 pm</td>\n",
              "      <td>Ed</td>\n",
              "      <td>&lt;Media omitted&gt;</td>\n",
              "    </tr>\n",
              "    <tr>\n",
              "      <th>4681</th>\n",
              "      <td>2020-09-20</td>\n",
              "      <td>12:52 pm</td>\n",
              "      <td>Ed</td>\n",
              "      <td>I see kk I can hidden it</td>\n",
              "    </tr>\n",
              "    <tr>\n",
              "      <th>4682</th>\n",
              "      <td>2020-09-20</td>\n",
              "      <td>12:53 pm</td>\n",
              "      <td>Rohit</td>\n",
              "      <td>Because we have shared alot private things her...</td>\n",
              "    </tr>\n",
              "    <tr>\n",
              "      <th>4683</th>\n",
              "      <td>2020-09-20</td>\n",
              "      <td>12:53 pm</td>\n",
              "      <td>Rohit</td>\n",
              "      <td>Np np</td>\n",
              "    </tr>\n",
              "    <tr>\n",
              "      <th>4684</th>\n",
              "      <td>2020-09-20</td>\n",
              "      <td>12:53 pm</td>\n",
              "      <td>Ed</td>\n",
              "      <td>OK Bro no worry</td>\n",
              "    </tr>\n",
              "    <tr>\n",
              "      <th>4685</th>\n",
              "      <td>2020-09-20</td>\n",
              "      <td>12:53 pm</td>\n",
              "      <td>Ed</td>\n",
              "      <td>@60183560200  can?</td>\n",
              "    </tr>\n",
              "    <tr>\n",
              "      <th>4686</th>\n",
              "      <td>2020-09-20</td>\n",
              "      <td>12:53 pm</td>\n",
              "      <td>Ed</td>\n",
              "      <td>Then if can I credit you two in my write up</td>\n",
              "    </tr>\n",
              "    <tr>\n",
              "      <th>4687</th>\n",
              "      <td>2020-09-20</td>\n",
              "      <td>12:56 pm</td>\n",
              "      <td>Ed</td>\n",
              "      <td>@60197773622  tha ya</td>\n",
              "    </tr>\n",
              "    <tr>\n",
              "      <th>4688</th>\n",
              "      <td>2020-09-20</td>\n",
              "      <td>1:01 pm</td>\n",
              "      <td>Rohit</td>\n",
              "      <td>Hahaha I ok je la see my name on your report 😃...</td>\n",
              "    </tr>\n",
              "    <tr>\n",
              "      <th>4689</th>\n",
              "      <td>2020-09-20</td>\n",
              "      <td>1:06 pm</td>\n",
              "      <td>Ed</td>\n",
              "      <td>I will censor it for the message</td>\n",
              "    </tr>\n",
              "    <tr>\n",
              "      <th>4690</th>\n",
              "      <td>2020-09-20</td>\n",
              "      <td>1:06 pm</td>\n",
              "      <td>Ed</td>\n",
              "      <td>😂 😂</td>\n",
              "    </tr>\n",
              "    <tr>\n",
              "      <th>4691</th>\n",
              "      <td>2020-09-20</td>\n",
              "      <td>5:32 pm</td>\n",
              "      <td>Ed</td>\n",
              "      <td>who have finish math lecture ?</td>\n",
              "    </tr>\n",
              "    <tr>\n",
              "      <th>4692</th>\n",
              "      <td>2020-09-21</td>\n",
              "      <td>2:25 pm</td>\n",
              "      <td>Ed</td>\n",
              "      <td>You deleted this message</td>\n",
              "    </tr>\n",
              "    <tr>\n",
              "      <th>4693</th>\n",
              "      <td>2020-09-21</td>\n",
              "      <td>2:26 pm</td>\n",
              "      <td>Ed</td>\n",
              "      <td>&lt;Media omitted&gt;</td>\n",
              "    </tr>\n",
              "    <tr>\n",
              "      <th>4694</th>\n",
              "      <td>2020-09-21</td>\n",
              "      <td>2:26 pm</td>\n",
              "      <td>Rohit</td>\n",
              "      <td>onz onz</td>\n",
              "    </tr>\n",
              "    <tr>\n",
              "      <th>4695</th>\n",
              "      <td>2020-09-21</td>\n",
              "      <td>2:26 pm</td>\n",
              "      <td>Ed</td>\n",
              "      <td>This is what I call English song. Good old fays</td>\n",
              "    </tr>\n",
              "  </tbody>\n",
              "</table>\n",
              "</div>"
            ],
            "text/plain": [
              "           Date      Time Author  \\\n",
              "4676 2020-09-18   7:51 pm     Ed   \n",
              "4677 2020-09-18   7:51 pm  Rohit   \n",
              "4678 2020-09-18   7:51 pm  Rohit   \n",
              "4679 2020-09-18   7:51 pm  Rohit   \n",
              "4680 2020-09-20  12:51 pm     Ed   \n",
              "4681 2020-09-20  12:52 pm     Ed   \n",
              "4682 2020-09-20  12:53 pm  Rohit   \n",
              "4683 2020-09-20  12:53 pm  Rohit   \n",
              "4684 2020-09-20  12:53 pm     Ed   \n",
              "4685 2020-09-20  12:53 pm     Ed   \n",
              "4686 2020-09-20  12:53 pm     Ed   \n",
              "4687 2020-09-20  12:56 pm     Ed   \n",
              "4688 2020-09-20   1:01 pm  Rohit   \n",
              "4689 2020-09-20   1:06 pm     Ed   \n",
              "4690 2020-09-20   1:06 pm     Ed   \n",
              "4691 2020-09-20   5:32 pm     Ed   \n",
              "4692 2020-09-21   2:25 pm     Ed   \n",
              "4693 2020-09-21   2:26 pm     Ed   \n",
              "4694 2020-09-21   2:26 pm  Rohit   \n",
              "4695 2020-09-21   2:26 pm     Ed   \n",
              "\n",
              "                                                Message  \n",
              "4676                                                😂 😂  \n",
              "4677                                  She marking maybe  \n",
              "4678                           G3 few only marked right  \n",
              "4679                   I saw morning like 3 groups only  \n",
              "4680                                    <Media omitted>  \n",
              "4681                           I see kk I can hidden it  \n",
              "4682  Because we have shared alot private things her...  \n",
              "4683                                              Np np  \n",
              "4684                                    OK Bro no worry  \n",
              "4685                                 @60183560200  can?  \n",
              "4686        Then if can I credit you two in my write up  \n",
              "4687                               @60197773622  tha ya  \n",
              "4688  Hahaha I ok je la see my name on your report 😃...  \n",
              "4689                   I will censor it for the message  \n",
              "4690                                                😂 😂  \n",
              "4691                     who have finish math lecture ?  \n",
              "4692                           You deleted this message  \n",
              "4693                                    <Media omitted>  \n",
              "4694                                            onz onz  \n",
              "4695    This is what I call English song. Good old fays  "
            ]
          },
          "execution_count": 11,
          "metadata": {},
          "output_type": "execute_result"
        }
      ],
      "source": [
        "df.tail(20)\n"
      ]
    },
    {
      "cell_type": "code",
      "execution_count": 12,
      "metadata": {
        "colab": {
          "base_uri": "https://localhost:8080/"
        },
        "id": "-JuUasO1MAX1",
        "outputId": "020fed0d-f0f5-4e64-8890-184a2a8a9c9f"
      },
      "outputs": [
        {
          "name": "stdout",
          "output_type": "stream",
          "text": [
            "<class 'pandas.core.frame.DataFrame'>\n",
            "RangeIndex: 4696 entries, 0 to 4695\n",
            "Data columns (total 4 columns):\n",
            " #   Column   Non-Null Count  Dtype         \n",
            "---  ------   --------------  -----         \n",
            " 0   Date     4696 non-null   datetime64[ns]\n",
            " 1   Time     4696 non-null   object        \n",
            " 2   Author   4696 non-null   object        \n",
            " 3   Message  4696 non-null   object        \n",
            "dtypes: datetime64[ns](1), object(3)\n",
            "memory usage: 146.9+ KB\n"
          ]
        }
      ],
      "source": [
        "df.info()\n"
      ]
    },
    {
      "cell_type": "code",
      "execution_count": 13,
      "metadata": {
        "colab": {
          "base_uri": "https://localhost:8080/"
        },
        "id": "vhly0VbIMDzQ",
        "outputId": "3d7c24cb-76e4-460c-a5b9-8eb20d4962d6"
      },
      "outputs": [
        {
          "data": {
            "text/plain": [
              "array(['Ed', 'Rohit'], dtype=object)"
            ]
          },
          "execution_count": 13,
          "metadata": {},
          "output_type": "execute_result"
        }
      ],
      "source": [
        "#----- Authors in the chat\n",
        "df.Author.unique()"
      ]
    },
    {
      "cell_type": "code",
      "execution_count": 14,
      "metadata": {
        "colab": {
          "base_uri": "https://localhost:8080/"
        },
        "id": "EuPtto68K_Fo",
        "outputId": "5b907f76-330c-49f9-a063-bdb3f8d59054"
      },
      "outputs": [
        {
          "name": "stdout",
          "output_type": "stream",
          "text": [
            "4696\n"
          ]
        }
      ],
      "source": [
        "#------ Displaying total number of messeges in the chat\n",
        "total_messages = df.shape[0]\n",
        "print(total_messages)"
      ]
    },
    {
      "cell_type": "code",
      "execution_count": 15,
      "metadata": {
        "colab": {
          "base_uri": "https://localhost:8080/"
        },
        "id": "4cCrQ2o2LA-5",
        "outputId": "84e5e146-aa65-444d-bcfc-edc002c43c31"
      },
      "outputs": [
        {
          "name": "stdout",
          "output_type": "stream",
          "text": [
            "263\n"
          ]
        }
      ],
      "source": [
        "#----- Displaying omitted media while exporting\n",
        "media_messages = df[df[\"Message\"]=='<Media omitted>'].shape[0]\n",
        "print(media_messages)"
      ]
    },
    {
      "cell_type": "markdown",
      "metadata": {
        "id": "w5DDaLJfSaeM"
      },
      "source": [
        "# ***Exploratory Data Analysis(EDA)***"
      ]
    },
    {
      "cell_type": "markdown",
      "metadata": {
        "id": "zqrSzJjaODAq"
      },
      "source": [
        "# Step 5: Performing EDA for analyzing chat data"
      ]
    },
    {
      "cell_type": "code",
      "execution_count": 16,
      "metadata": {
        "colab": {
          "base_uri": "https://localhost:8080/"
        },
        "id": "ZpsI0vslSdvj",
        "outputId": "baab75ae-029f-4465-9795-f39a9adffdf1"
      },
      "outputs": [
        {
          "name": "stdout",
          "output_type": "stream",
          "text": [
            "<class 'pandas.core.frame.DataFrame'>\n",
            "RangeIndex: 4696 entries, 0 to 4695\n",
            "Data columns (total 4 columns):\n",
            " #   Column   Non-Null Count  Dtype         \n",
            "---  ------   --------------  -----         \n",
            " 0   Date     4696 non-null   datetime64[ns]\n",
            " 1   Time     4696 non-null   object        \n",
            " 2   Author   4696 non-null   object        \n",
            " 3   Message  4696 non-null   object        \n",
            "dtypes: datetime64[ns](1), object(3)\n",
            "memory usage: 146.9+ KB\n"
          ]
        },
        {
          "data": {
            "text/plain": [
              "array(['Ed', 'Rohit'], dtype=object)"
            ]
          },
          "execution_count": 16,
          "metadata": {},
          "output_type": "execute_result"
        }
      ],
      "source": [
        "### ----------- Checking shape of dataset.\n",
        "df.shape\n",
        "\n",
        "### ---------- Checking basic information of dataset\n",
        "df.info()\n",
        "\n",
        "### ----------  Checking no. of null values in dataset\n",
        "df.isnull().sum()\n",
        "\n",
        "### ---------- Checking head part of dataset\n",
        "df.head(20)\n",
        "\n",
        "### -------- Checking tail part of dataset\n",
        "df.tail(20)\n",
        "\n",
        "### -------- Droping Nan values from dataset\n",
        "df = df.dropna()\n",
        "df = df.reset_index(drop=True)\n",
        "df.shape\n",
        "\n",
        "### --------- Checking no. of authors of group\n",
        "df['Author'].nunique()\n",
        "\n",
        "### --------- Checking authors of group\n",
        "df['Author'].unique()\n"
      ]
    },
    {
      "cell_type": "code",
      "execution_count": 17,
      "metadata": {
        "colab": {
          "base_uri": "https://localhost:8080/",
          "height": 419
        },
        "id": "W3OG97NlShjh",
        "outputId": "1a031e6e-cce9-4781-9350-0fc3ec76ac61"
      },
      "outputs": [
        {
          "data": {
            "text/html": [
              "<div>\n",
              "<style scoped>\n",
              "    .dataframe tbody tr th:only-of-type {\n",
              "        vertical-align: middle;\n",
              "    }\n",
              "\n",
              "    .dataframe tbody tr th {\n",
              "        vertical-align: top;\n",
              "    }\n",
              "\n",
              "    .dataframe thead th {\n",
              "        text-align: right;\n",
              "    }\n",
              "</style>\n",
              "<table border=\"1\" class=\"dataframe\">\n",
              "  <thead>\n",
              "    <tr style=\"text-align: right;\">\n",
              "      <th></th>\n",
              "      <th>Date</th>\n",
              "      <th>Day</th>\n",
              "      <th>Time</th>\n",
              "      <th>Author</th>\n",
              "      <th>Message</th>\n",
              "      <th>Letter</th>\n",
              "      <th>Word</th>\n",
              "      <th>urlcount</th>\n",
              "      <th>Media_Count</th>\n",
              "    </tr>\n",
              "  </thead>\n",
              "  <tbody>\n",
              "    <tr>\n",
              "      <th>0</th>\n",
              "      <td>2020-05-02</td>\n",
              "      <td>Saturday</td>\n",
              "      <td>10:00 am</td>\n",
              "      <td>Ed</td>\n",
              "      <td>We share our knowledge here and pass year</td>\n",
              "      <td>41</td>\n",
              "      <td>8</td>\n",
              "      <td>0</td>\n",
              "      <td>0</td>\n",
              "    </tr>\n",
              "    <tr>\n",
              "      <th>1</th>\n",
              "      <td>2020-05-02</td>\n",
              "      <td>Saturday</td>\n",
              "      <td>10:01 am</td>\n",
              "      <td>Ed</td>\n",
              "      <td>&lt;Media omitted&gt;</td>\n",
              "      <td>15</td>\n",
              "      <td>2</td>\n",
              "      <td>0</td>\n",
              "      <td>1</td>\n",
              "    </tr>\n",
              "    <tr>\n",
              "      <th>2</th>\n",
              "      <td>2020-05-02</td>\n",
              "      <td>Saturday</td>\n",
              "      <td>10:01 am</td>\n",
              "      <td>Ed</td>\n",
              "      <td>Easy to communicate 🤣🤣🤣</td>\n",
              "      <td>23</td>\n",
              "      <td>4</td>\n",
              "      <td>0</td>\n",
              "      <td>0</td>\n",
              "    </tr>\n",
              "    <tr>\n",
              "      <th>3</th>\n",
              "      <td>2020-05-02</td>\n",
              "      <td>Saturday</td>\n",
              "      <td>10:01 am</td>\n",
              "      <td>Rohit</td>\n",
              "      <td>💪🏾</td>\n",
              "      <td>2</td>\n",
              "      <td>1</td>\n",
              "      <td>0</td>\n",
              "      <td>0</td>\n",
              "    </tr>\n",
              "    <tr>\n",
              "      <th>4</th>\n",
              "      <td>2020-05-02</td>\n",
              "      <td>Saturday</td>\n",
              "      <td>10:01 am</td>\n",
              "      <td>Rohit</td>\n",
              "      <td>yeah</td>\n",
              "      <td>4</td>\n",
              "      <td>1</td>\n",
              "      <td>0</td>\n",
              "      <td>0</td>\n",
              "    </tr>\n",
              "    <tr>\n",
              "      <th>...</th>\n",
              "      <td>...</td>\n",
              "      <td>...</td>\n",
              "      <td>...</td>\n",
              "      <td>...</td>\n",
              "      <td>...</td>\n",
              "      <td>...</td>\n",
              "      <td>...</td>\n",
              "      <td>...</td>\n",
              "      <td>...</td>\n",
              "    </tr>\n",
              "    <tr>\n",
              "      <th>4691</th>\n",
              "      <td>2020-09-20</td>\n",
              "      <td>Sunday</td>\n",
              "      <td>5:32 pm</td>\n",
              "      <td>Ed</td>\n",
              "      <td>who have finish math lecture ?</td>\n",
              "      <td>30</td>\n",
              "      <td>6</td>\n",
              "      <td>0</td>\n",
              "      <td>0</td>\n",
              "    </tr>\n",
              "    <tr>\n",
              "      <th>4692</th>\n",
              "      <td>2020-09-21</td>\n",
              "      <td>Monday</td>\n",
              "      <td>2:25 pm</td>\n",
              "      <td>Ed</td>\n",
              "      <td>You deleted this message</td>\n",
              "      <td>24</td>\n",
              "      <td>4</td>\n",
              "      <td>0</td>\n",
              "      <td>0</td>\n",
              "    </tr>\n",
              "    <tr>\n",
              "      <th>4693</th>\n",
              "      <td>2020-09-21</td>\n",
              "      <td>Monday</td>\n",
              "      <td>2:26 pm</td>\n",
              "      <td>Ed</td>\n",
              "      <td>&lt;Media omitted&gt;</td>\n",
              "      <td>15</td>\n",
              "      <td>2</td>\n",
              "      <td>0</td>\n",
              "      <td>1</td>\n",
              "    </tr>\n",
              "    <tr>\n",
              "      <th>4694</th>\n",
              "      <td>2020-09-21</td>\n",
              "      <td>Monday</td>\n",
              "      <td>2:26 pm</td>\n",
              "      <td>Rohit</td>\n",
              "      <td>onz onz</td>\n",
              "      <td>7</td>\n",
              "      <td>2</td>\n",
              "      <td>0</td>\n",
              "      <td>0</td>\n",
              "    </tr>\n",
              "    <tr>\n",
              "      <th>4695</th>\n",
              "      <td>2020-09-21</td>\n",
              "      <td>Monday</td>\n",
              "      <td>2:26 pm</td>\n",
              "      <td>Ed</td>\n",
              "      <td>This is what I call English song. Good old fays</td>\n",
              "      <td>47</td>\n",
              "      <td>10</td>\n",
              "      <td>0</td>\n",
              "      <td>0</td>\n",
              "    </tr>\n",
              "  </tbody>\n",
              "</table>\n",
              "<p>4696 rows × 9 columns</p>\n",
              "</div>"
            ],
            "text/plain": [
              "           Date       Day      Time Author  \\\n",
              "0    2020-05-02  Saturday  10:00 am     Ed   \n",
              "1    2020-05-02  Saturday  10:01 am     Ed   \n",
              "2    2020-05-02  Saturday  10:01 am     Ed   \n",
              "3    2020-05-02  Saturday  10:01 am  Rohit   \n",
              "4    2020-05-02  Saturday  10:01 am  Rohit   \n",
              "...         ...       ...       ...    ...   \n",
              "4691 2020-09-20    Sunday   5:32 pm     Ed   \n",
              "4692 2020-09-21    Monday   2:25 pm     Ed   \n",
              "4693 2020-09-21    Monday   2:26 pm     Ed   \n",
              "4694 2020-09-21    Monday   2:26 pm  Rohit   \n",
              "4695 2020-09-21    Monday   2:26 pm     Ed   \n",
              "\n",
              "                                              Message  Letter  Word  urlcount  \\\n",
              "0           We share our knowledge here and pass year      41     8         0   \n",
              "1                                     <Media omitted>      15     2         0   \n",
              "2                             Easy to communicate 🤣🤣🤣      23     4         0   \n",
              "3                                                  💪🏾       2     1         0   \n",
              "4                                                yeah       4     1         0   \n",
              "...                                               ...     ...   ...       ...   \n",
              "4691                   who have finish math lecture ?      30     6         0   \n",
              "4692                         You deleted this message      24     4         0   \n",
              "4693                                  <Media omitted>      15     2         0   \n",
              "4694                                          onz onz       7     2         0   \n",
              "4695  This is what I call English song. Good old fays      47    10         0   \n",
              "\n",
              "      Media_Count  \n",
              "0               0  \n",
              "1               1  \n",
              "2               0  \n",
              "3               0  \n",
              "4               0  \n",
              "...           ...  \n",
              "4691            0  \n",
              "4692            0  \n",
              "4693            1  \n",
              "4694            0  \n",
              "4695            0  \n",
              "\n",
              "[4696 rows x 9 columns]"
            ]
          },
          "execution_count": 17,
          "metadata": {},
          "output_type": "execute_result"
        }
      ],
      "source": [
        "###--------  Adding one more column of \"Day\" for better analysis, here we use datetime library which help us to do this task easily.\n",
        "weeks = {\n",
        "0 : 'Monday',\n",
        "1 : 'Tuesday',\n",
        "2 : 'Wednesday',\n",
        "3 : 'Thrusday',\n",
        "4 : 'Friday',\n",
        "5 : 'Saturday',\n",
        "6 : 'Sunday'\n",
        "}\n",
        "df['Day'] = df['Date'].dt.weekday.map(weeks)\n",
        "\n",
        "### ----------- Rearranging the columns for better understanding\n",
        "df = df[['Date','Day','Time','Author','Message']]\n",
        "\n",
        "### ----------- Changing the datatype of column \"Day\".\n",
        "df['Day'] = df['Day'].astype('category')\n",
        "\n",
        "### ---------- Looking newborn dataset.\n",
        "df.head()\n",
        "\n",
        "### ---------- Counting number of letters in each message\n",
        "df['Letter'] = df['Message'].apply(lambda s : len(s))\n",
        "\n",
        "### ---------- Counting number of word's in each message\n",
        "df['Word'] = df['Message'].apply(lambda s : len(s.split(' ')))\n",
        "\n",
        "### ---------- Function to count number of links in dataset, it will add extra column and store information in it.\n",
        "URLPATTERN = r'(https?://\\S+)'\n",
        "df['urlcount'] = df.Message.apply(lambda x: regex.findall(URLPATTERN, x)).str.len()\n",
        "links = np.sum(df.urlcount)\n",
        "\n",
        "###--------- Function to count number of media in chat.\n",
        "MEDIAPATTERN = r'<Media omitted>'\n",
        "df['Media_Count'] = df.Message.apply(lambda x : regex.findall(MEDIAPATTERN, x)).str.len()\n",
        "media = np.sum(df.Media_Count)\n",
        "\n",
        "###------- Looking into updated dataset\n",
        "df"
      ]
    },
    {
      "cell_type": "markdown",
      "metadata": {
        "id": "m3o7x7slCbBr"
      },
      "source": [
        "# Step 6: Overall statistics of WhatsApp chat including Total number of messages, media messages(Omitted) & Total number of URLs"
      ]
    },
    {
      "cell_type": "code",
      "execution_count": 18,
      "metadata": {
        "colab": {
          "base_uri": "https://localhost:8080/"
        },
        "id": "_Zv7WNd_TwI1",
        "outputId": "8a8b353b-3eda-429e-924a-461f3a39b035"
      },
      "outputs": [
        {
          "name": "stdout",
          "output_type": "stream",
          "text": [
            "Personal Chat Stats : \n",
            "Total Number of Messages : 4696\n",
            "Total Number of Media Messages : 263\n",
            "Total Number of Links : 17\n"
          ]
        }
      ],
      "source": [
        "total_messages = df.shape[0]\n",
        "media_messages = df[df['Message'] == '<Media omitted>'].shape[0]\n",
        "links = np.sum(df.urlcount)\n",
        "print('Personal Chat Stats : ')\n",
        "print('Total Number of Messages : {}'.format(total_messages))\n",
        "print('Total Number of Media Messages : {}'.format(media_messages))\n",
        "print('Total Number of Links : {}'.format(links))"
      ]
    },
    {
      "cell_type": "markdown",
      "metadata": {
        "id": "9QNHNL5uUCPC"
      },
      "source": [
        "# Step 7: Extracting basic statistics for each Author (user)"
      ]
    },
    {
      "cell_type": "code",
      "execution_count": 19,
      "metadata": {
        "colab": {
          "base_uri": "https://localhost:8080/"
        },
        "id": "bP-ExtcST9G8",
        "outputId": "76788f3f-cd47-4803-cc83-cee96ac4d053"
      },
      "outputs": [
        {
          "name": "stdout",
          "output_type": "stream",
          "text": [
            "--> Stats of Ed <-- \n",
            "Total Message Sent :  2140\n",
            "Average Words per Message :  3.890\n",
            "Total Media Message Sent :  163\n",
            "Total Links Sent :  4\n",
            "\n",
            "----------------------------------------------------------n\n",
            "--> Stats of Rohit <-- \n",
            "Total Message Sent :  2556\n",
            "Average Words per Message :  5.610\n",
            "Total Media Message Sent :  100\n",
            "Total Links Sent :  13\n",
            "\n",
            "----------------------------------------------------------n\n"
          ]
        }
      ],
      "source": [
        "l = df.Author.unique()\n",
        "for i in range(len(l)):\n",
        "  ### -------Filtering out messages of particular user\n",
        "  req_df = df[df[\"Author\"] == l[i]]\n",
        "\n",
        "  ### -------- req_df will contain messages of only one particular user\n",
        "  print(f'--> Stats of {l[i]} <-- ')\n",
        "\n",
        "  ### -------- shape will print number of rows which indirectly means the number of messages\n",
        "  print('Total Message Sent : ', req_df.shape[0])\n",
        "\n",
        "  ### -------- Word_Count contains of total words in one message. Sum of all words/ Total Messages will yield words per message\n",
        "  words_per_message = (np.sum(req_df['Word']))/req_df.shape[0]\n",
        "  w_p_m = (\"%.3f\" % round(words_per_message, 2))  \n",
        "  print('Average Words per Message : ', w_p_m)\n",
        "\n",
        "  ### -------- media conists of media messages\n",
        "  media = sum(req_df[\"Media_Count\"])\n",
        "  print('Total Media Message Sent : ', media)\n",
        "\n",
        "  ### ------- links consist of total links\n",
        "  links = sum(req_df[\"urlcount\"])   \n",
        "  print('Total Links Sent : ', links)   \n",
        "  print()\n",
        "  print('----------------------------------------------------------n')"
      ]
    },
    {
      "cell_type": "code",
      "execution_count": 20,
      "metadata": {
        "id": "Ap6ZxCXuVsMx"
      },
      "outputs": [],
      "source": [
        "#def split_count(text):\n",
        "    #emoji_list = []\n",
        "    #data = regex.findall(r'\\X',text)\n",
        "    #for word in data:\n",
        "        #if any(char in emoji.UNICODE_EMOJI for char in word):\n",
        "            #emoji_list.append(word)\n",
        "    #return emoji_list\n",
        "#df['emoji'] = df[\"Message\"].apply(split_count)\n",
        "\n",
        "#emojis = sum(df['emoji'].str.len())\n",
        "#print(emojis)"
      ]
    },
    {
      "cell_type": "code",
      "execution_count": 21,
      "metadata": {
        "id": "AaukxsI6dFxK"
      },
      "outputs": [],
      "source": [
        "#df.emoji\n"
      ]
    },
    {
      "cell_type": "markdown",
      "metadata": {
        "id": "JwjRtSa4dSgW"
      },
      "source": [
        "# Step 8: Word cloud of most used words in chat"
      ]
    },
    {
      "cell_type": "code",
      "execution_count": 25,
      "metadata": {},
      "outputs": [
        {
          "ename": "SyntaxError",
          "evalue": "invalid syntax (1914088192.py, line 1)",
          "output_type": "error",
          "traceback": [
            "\u001b[1;36m  Input \u001b[1;32mIn [25]\u001b[1;36m\u001b[0m\n\u001b[1;33m    pip install--upgrade pip\u001b[0m\n\u001b[1;37m        ^\u001b[0m\n\u001b[1;31mSyntaxError\u001b[0m\u001b[1;31m:\u001b[0m invalid syntax\n"
          ]
        }
      ],
      "source": []
    },
    {
      "cell_type": "code",
      "execution_count": 42,
      "metadata": {
        "colab": {
          "base_uri": "https://localhost:8080/",
          "height": 303
        },
        "id": "X7ritpphdRc_",
        "outputId": "b6ba4f05-276a-4596-99e8-4f54e21723b9"
      },
      "outputs": [
        {
          "ename": "ValueError",
          "evalue": "Only supported for TrueType fonts",
          "output_type": "error",
          "traceback": [
            "\u001b[1;31m---------------------------------------------------------------------------\u001b[0m",
            "\u001b[1;31mValueError\u001b[0m                                Traceback (most recent call last)",
            "\u001b[1;32mc:\\Users\\ASUS\\Downloads\\NLP-implementation-on-whastapp-chats-using-python-main\\NLP-implementation-on-whastapp-chats-using-python-main\\NLP_on_Whatsapp_Chat_using_python.ipynb Cell 33\u001b[0m line \u001b[0;36m<cell line: 3>\u001b[1;34m()\u001b[0m\n\u001b[0;32m      <a href='vscode-notebook-cell:/c%3A/Users/ASUS/Downloads/NLP-implementation-on-whastapp-chats-using-python-main/NLP-implementation-on-whastapp-chats-using-python-main/NLP_on_Whatsapp_Chat_using_python.ipynb#X42sZmlsZQ%3D%3D?line=0'>1</a>\u001b[0m \u001b[39m### ------ Word Cloud of mostly used word in our Group\u001b[39;00m\n\u001b[0;32m      <a href='vscode-notebook-cell:/c%3A/Users/ASUS/Downloads/NLP-implementation-on-whastapp-chats-using-python-main/NLP-implementation-on-whastapp-chats-using-python-main/NLP_on_Whatsapp_Chat_using_python.ipynb#X42sZmlsZQ%3D%3D?line=1'>2</a>\u001b[0m text \u001b[39m=\u001b[39m \u001b[39m\"\u001b[39m\u001b[39m \u001b[39m\u001b[39m\"\u001b[39m\u001b[39m.\u001b[39mjoin(review \u001b[39mfor\u001b[39;00m review \u001b[39min\u001b[39;00m df\u001b[39m.\u001b[39mMessage)\n\u001b[1;32m----> <a href='vscode-notebook-cell:/c%3A/Users/ASUS/Downloads/NLP-implementation-on-whastapp-chats-using-python-main/NLP-implementation-on-whastapp-chats-using-python-main/NLP_on_Whatsapp_Chat_using_python.ipynb#X42sZmlsZQ%3D%3D?line=2'>3</a>\u001b[0m wordcloud \u001b[39m=\u001b[39m WordCloud(stopwords\u001b[39m=\u001b[39;49mSTOPWORDS, background_color\u001b[39m=\u001b[39;49m\u001b[39m\"\u001b[39;49m\u001b[39mwhite\u001b[39;49m\u001b[39m\"\u001b[39;49m)\u001b[39m.\u001b[39;49mgenerate(text)\n\u001b[0;32m      <a href='vscode-notebook-cell:/c%3A/Users/ASUS/Downloads/NLP-implementation-on-whastapp-chats-using-python-main/NLP-implementation-on-whastapp-chats-using-python-main/NLP_on_Whatsapp_Chat_using_python.ipynb#X42sZmlsZQ%3D%3D?line=4'>5</a>\u001b[0m \u001b[39m### ------ Display the generated image:\u001b[39;00m\n\u001b[0;32m      <a href='vscode-notebook-cell:/c%3A/Users/ASUS/Downloads/NLP-implementation-on-whastapp-chats-using-python-main/NLP-implementation-on-whastapp-chats-using-python-main/NLP_on_Whatsapp_Chat_using_python.ipynb#X42sZmlsZQ%3D%3D?line=5'>6</a>\u001b[0m plt\u001b[39m.\u001b[39mfigure( figsize\u001b[39m=\u001b[39m(\u001b[39m10\u001b[39m,\u001b[39m5\u001b[39m))\n",
            "File \u001b[1;32mc:\\Users\\ASUS\\anaconda3\\lib\\site-packages\\wordcloud\\wordcloud.py:642\u001b[0m, in \u001b[0;36mWordCloud.generate\u001b[1;34m(self, text)\u001b[0m\n\u001b[0;32m    627\u001b[0m \u001b[39mdef\u001b[39;00m \u001b[39mgenerate\u001b[39m(\u001b[39mself\u001b[39m, text):\n\u001b[0;32m    628\u001b[0m     \u001b[39m\"\"\"Generate wordcloud from text.\u001b[39;00m\n\u001b[0;32m    629\u001b[0m \n\u001b[0;32m    630\u001b[0m \u001b[39m    The input \"text\" is expected to be a natural text. If you pass a sorted\u001b[39;00m\n\u001b[1;32m   (...)\u001b[0m\n\u001b[0;32m    640\u001b[0m \u001b[39m    self\u001b[39;00m\n\u001b[0;32m    641\u001b[0m \u001b[39m    \"\"\"\u001b[39;00m\n\u001b[1;32m--> 642\u001b[0m     \u001b[39mreturn\u001b[39;00m \u001b[39mself\u001b[39;49m\u001b[39m.\u001b[39;49mgenerate_from_text(text)\n",
            "File \u001b[1;32mc:\\Users\\ASUS\\anaconda3\\lib\\site-packages\\wordcloud\\wordcloud.py:624\u001b[0m, in \u001b[0;36mWordCloud.generate_from_text\u001b[1;34m(self, text)\u001b[0m\n\u001b[0;32m    607\u001b[0m \u001b[39m\"\"\"Generate wordcloud from text.\u001b[39;00m\n\u001b[0;32m    608\u001b[0m \n\u001b[0;32m    609\u001b[0m \u001b[39mThe input \"text\" is expected to be a natural text. If you pass a sorted\u001b[39;00m\n\u001b[1;32m   (...)\u001b[0m\n\u001b[0;32m    621\u001b[0m \u001b[39mself\u001b[39;00m\n\u001b[0;32m    622\u001b[0m \u001b[39m\"\"\"\u001b[39;00m\n\u001b[0;32m    623\u001b[0m words \u001b[39m=\u001b[39m \u001b[39mself\u001b[39m\u001b[39m.\u001b[39mprocess_text(text)\n\u001b[1;32m--> 624\u001b[0m \u001b[39mself\u001b[39;49m\u001b[39m.\u001b[39;49mgenerate_from_frequencies(words)\n\u001b[0;32m    625\u001b[0m \u001b[39mreturn\u001b[39;00m \u001b[39mself\u001b[39m\n",
            "File \u001b[1;32mc:\\Users\\ASUS\\anaconda3\\lib\\site-packages\\wordcloud\\wordcloud.py:453\u001b[0m, in \u001b[0;36mWordCloud.generate_from_frequencies\u001b[1;34m(self, frequencies, max_font_size)\u001b[0m\n\u001b[0;32m    451\u001b[0m     font_size \u001b[39m=\u001b[39m \u001b[39mself\u001b[39m\u001b[39m.\u001b[39mheight\n\u001b[0;32m    452\u001b[0m \u001b[39melse\u001b[39;00m:\n\u001b[1;32m--> 453\u001b[0m     \u001b[39mself\u001b[39;49m\u001b[39m.\u001b[39;49mgenerate_from_frequencies(\u001b[39mdict\u001b[39;49m(frequencies[:\u001b[39m2\u001b[39;49m]),\n\u001b[0;32m    454\u001b[0m                                    max_font_size\u001b[39m=\u001b[39;49m\u001b[39mself\u001b[39;49m\u001b[39m.\u001b[39;49mheight)\n\u001b[0;32m    455\u001b[0m     \u001b[39m# find font sizes\u001b[39;00m\n\u001b[0;32m    456\u001b[0m     sizes \u001b[39m=\u001b[39m [x[\u001b[39m1\u001b[39m] \u001b[39mfor\u001b[39;00m x \u001b[39min\u001b[39;00m \u001b[39mself\u001b[39m\u001b[39m.\u001b[39mlayout_]\n",
            "File \u001b[1;32mc:\\Users\\ASUS\\anaconda3\\lib\\site-packages\\wordcloud\\wordcloud.py:511\u001b[0m, in \u001b[0;36mWordCloud.generate_from_frequencies\u001b[1;34m(self, frequencies, max_font_size)\u001b[0m\n\u001b[0;32m    508\u001b[0m transposed_font \u001b[39m=\u001b[39m ImageFont\u001b[39m.\u001b[39mTransposedFont(\n\u001b[0;32m    509\u001b[0m     font, orientation\u001b[39m=\u001b[39morientation)\n\u001b[0;32m    510\u001b[0m \u001b[39m# get size of resulting text\u001b[39;00m\n\u001b[1;32m--> 511\u001b[0m box_size \u001b[39m=\u001b[39m draw\u001b[39m.\u001b[39;49mtextbbox((\u001b[39m0\u001b[39;49m, \u001b[39m0\u001b[39;49m), word, font\u001b[39m=\u001b[39;49mtransposed_font, anchor\u001b[39m=\u001b[39;49m\u001b[39m\"\u001b[39;49m\u001b[39mlt\u001b[39;49m\u001b[39m\"\u001b[39;49m)\n\u001b[0;32m    512\u001b[0m \u001b[39m# find possible places using integral image:\u001b[39;00m\n\u001b[0;32m    513\u001b[0m result \u001b[39m=\u001b[39m occupancy\u001b[39m.\u001b[39msample_position(box_size[\u001b[39m3\u001b[39m] \u001b[39m+\u001b[39m \u001b[39mself\u001b[39m\u001b[39m.\u001b[39mmargin,\n\u001b[0;32m    514\u001b[0m                                    box_size[\u001b[39m2\u001b[39m] \u001b[39m+\u001b[39m \u001b[39mself\u001b[39m\u001b[39m.\u001b[39mmargin,\n\u001b[0;32m    515\u001b[0m                                    random_state)\n",
            "File \u001b[1;32mc:\\Users\\ASUS\\anaconda3\\lib\\site-packages\\PIL\\ImageDraw.py:671\u001b[0m, in \u001b[0;36mImageDraw.textbbox\u001b[1;34m(self, xy, text, font, anchor, spacing, align, direction, features, language, stroke_width, embedded_color)\u001b[0m\n\u001b[0;32m    669\u001b[0m     font \u001b[39m=\u001b[39m \u001b[39mself\u001b[39m\u001b[39m.\u001b[39mgetfont()\n\u001b[0;32m    670\u001b[0m \u001b[39mif\u001b[39;00m \u001b[39mnot\u001b[39;00m \u001b[39misinstance\u001b[39m(font, ImageFont\u001b[39m.\u001b[39mFreeTypeFont):\n\u001b[1;32m--> 671\u001b[0m     \u001b[39mraise\u001b[39;00m \u001b[39mValueError\u001b[39;00m(\u001b[39m\"\u001b[39m\u001b[39mOnly supported for TrueType fonts\u001b[39m\u001b[39m\"\u001b[39m)\n\u001b[0;32m    672\u001b[0m mode \u001b[39m=\u001b[39m \u001b[39m\"\u001b[39m\u001b[39mRGBA\u001b[39m\u001b[39m\"\u001b[39m \u001b[39mif\u001b[39;00m embedded_color \u001b[39melse\u001b[39;00m \u001b[39mself\u001b[39m\u001b[39m.\u001b[39mfontmode\n\u001b[0;32m    673\u001b[0m bbox \u001b[39m=\u001b[39m font\u001b[39m.\u001b[39mgetbbox(\n\u001b[0;32m    674\u001b[0m     text, mode, direction, features, language, stroke_width, anchor\n\u001b[0;32m    675\u001b[0m )\n",
            "\u001b[1;31mValueError\u001b[0m: Only supported for TrueType fonts"
          ]
        }
      ],
      "source": [
        "### ------ Word Cloud of mostly used word in our Group\n",
        "text = \" \".join(review for review in df.Message)\n",
        "wordcloud = WordCloud(stopwords=STOPWORDS, background_color=\"white\").generate(text)\n",
        "\n",
        "### ------ Display the generated image:\n",
        "plt.figure( figsize=(10,5))\n",
        "plt.imshow(wordcloud, interpolation='bilinear')\n",
        "plt.axis(\"off\")\n",
        "plt.show()\n",
        "\n",
        "\n",
        "\n",
        "\n",
        "\n"
      ]
    },
    {
      "cell_type": "markdown",
      "metadata": {
        "id": "99X8FE-ldipz"
      },
      "source": [
        "# Step 9: Total number of messages sent by each user"
      ]
    },
    {
      "cell_type": "code",
      "execution_count": 28,
      "metadata": {
        "colab": {
          "base_uri": "https://localhost:8080/"
        },
        "id": "wrKvPmqSdl-j",
        "outputId": "17fd80bd-c534-4a14-da1f-407eebb298b0"
      },
      "outputs": [
        {
          "name": "stdout",
          "output_type": "stream",
          "text": [
            "Ed   ->   2140\n",
            "Rohit   ->   2556\n"
          ]
        }
      ],
      "source": [
        "###------ Creates a list of unique Authors\n",
        "l = df.Author.unique()\n",
        "\n",
        "for i in range(len(l)):\n",
        "  ###------ Filtering out messages of particular user\n",
        "  req_df = df[df[\"Author\"] == l[i]]\n",
        "\n",
        "  ###------ req_df will contain messages of only one particular user\n",
        "  print(l[i],'  ->  ',req_df.shape[0])"
      ]
    },
    {
      "cell_type": "markdown",
      "metadata": {
        "id": "RFLNN9V-dwUx"
      },
      "source": [
        "# Step 10: Total messages sent on each day of the week"
      ]
    },
    {
      "cell_type": "code",
      "execution_count": 29,
      "metadata": {
        "colab": {
          "base_uri": "https://localhost:8080/"
        },
        "id": "PJuyfFdedyzP",
        "outputId": "c24c6a31-0846-4944-987e-5ee7535eb780"
      },
      "outputs": [
        {
          "name": "stdout",
          "output_type": "stream",
          "text": [
            "Saturday   ->   492\n",
            "Tuesday   ->   996\n",
            "Thrusday   ->   735\n",
            "Sunday   ->   691\n",
            "Wednesday   ->   1007\n",
            "Friday   ->   546\n",
            "Monday   ->   229\n"
          ]
        }
      ],
      "source": [
        "l = df.Day.unique()\n",
        "for i in range(len(l)):\n",
        "  ### ------ Filtering out messages of particular user\n",
        "  req_df = df[df[\"Day\"] == l[i]]\n",
        "\n",
        "  ###------- req_df will contain messages of only one particular user\n",
        "  print(l[i],'  ->  ',req_df.shape[0])"
      ]
    },
    {
      "cell_type": "markdown",
      "metadata": {
        "id": "4vqTtD9ed75p"
      },
      "source": [
        "# Step 11: Most active author of the chat"
      ]
    },
    {
      "cell_type": "code",
      "execution_count": 30,
      "metadata": {
        "colab": {
          "base_uri": "https://localhost:8080/",
          "height": 413
        },
        "id": "Xx_rCMjafw0i",
        "outputId": "f4a7e282-6042-4f2b-dae9-391c285df295"
      },
      "outputs": [
        {
          "data": {
            "image/png": "[encoded data removed]",
            "text/plain": [
              "<Figure size 648x432 with 1 Axes>"
            ]
          },
          "metadata": {
            "needs_background": "light"
          },
          "output_type": "display_data"
        }
      ],
      "source": [
        "### ------ Most Active Author in the chat\n",
        "plt.figure(figsize=(9,6))\n",
        "author_value_counts = df['Author'].value_counts() #--- Number of messages per author\n",
        "most_active = author_value_counts.head(10) #--- Number of messages per author for the  most active author\n",
        "most_active.plot.barh() #--- Plot a bar chart using pandas built-in plotting apis\n",
        "\n",
        "plt.xlabel('No. of messages',fontdict={'fontsize': 14,'fontweight': 10})\n",
        "plt.ylabel('Authors',fontdict={'fontsize': 14,'fontweight': 10})\n",
        "plt.title('Mostly active member of chat',fontdict={'fontsize': 20,'fontweight': 8})\n",
        "plt.show()\n"
      ]
    },
    {
      "cell_type": "markdown",
      "metadata": {
        "id": "T3-seyYIeSe8"
      },
      "source": [
        "# Step 12: Most active day in a week"
      ]
    },
    {
      "cell_type": "code",
      "execution_count": 31,
      "metadata": {
        "colab": {
          "base_uri": "https://localhost:8080/",
          "height": 405
        },
        "id": "Chbaq_4UeWJv",
        "outputId": "d6120b31-c36b-48cb-9069-7676160d5985"
      },
      "outputs": [
        {
          "data": {
            "image/png": "[encoded data removed]",
            "text/plain": [
              "<Figure size 576x360 with 1 Axes>"
            ]
          },
          "metadata": {
            "needs_background": "light"
          },
          "output_type": "display_data"
        }
      ],
      "source": [
        "### ------ Mostly Active day in the chat\n",
        "plt.figure(figsize=(8,5))\n",
        "active_day = df['Day'].value_counts()\n",
        "\n",
        "### ------ Most active author in the chat is : \n",
        "a_d = active_day.head(10)\n",
        "a_d.plot.bar()\n",
        "plt.xlabel('Day',fontdict={'fontsize': 12,'fontweight': 10})\n",
        "plt.ylabel('No. of messages',fontdict={'fontsize': 12,'fontweight': 10})\n",
        "plt.title('Mostly active day of chat in a Week',fontdict={'fontsize': 18,'fontweight': 8})\n",
        "plt.show()"
      ]
    },
    {
      "cell_type": "markdown",
      "metadata": {
        "id": "uX2qubwAFrYj"
      },
      "source": [
        "# ***Time series analysis***"
      ]
    },
    {
      "cell_type": "markdown",
      "metadata": {
        "id": "K9SR3vbWivnu"
      },
      "source": [
        "# Step 13: Time whenever the chat was highly active "
      ]
    },
    {
      "cell_type": "code",
      "execution_count": 32,
      "metadata": {
        "colab": {
          "base_uri": "https://localhost:8080/",
          "height": 394
        },
        "id": "a_pfuagJiyU3",
        "outputId": "5d19036c-058b-4706-a211-53c124a40f64"
      },
      "outputs": [
        {
          "data": {
            "image/png": "[encoded data removed]",
            "text/plain": [
              "<Figure size 576x360 with 1 Axes>"
            ]
          },
          "metadata": {
            "needs_background": "light"
          },
          "output_type": "display_data"
        }
      ],
      "source": [
        "###------  Time whenever the chat is highly active\n",
        "plt.figure(figsize=(8,5))\n",
        "t = df['Time'].value_counts().head(20)\n",
        "tx = t.plot.bar()\n",
        "tx.yaxis.set_major_locator(MaxNLocator(integer=True))  #----- Converting y axis data to integer\n",
        "plt.xlabel('Time',fontdict={'fontsize': 12,'fontweight': 10})\n",
        "plt.ylabel('No. of messages',fontdict={'fontsize': 12,'fontweight': 10})\n",
        "plt.title('Analysis of time when chat was highly active.',fontdict={'fontsize': 18,'fontweight': 8})\n",
        "plt.show()"
      ]
    },
    {
      "cell_type": "markdown",
      "metadata": {
        "id": "MM-kq9ukjn4O"
      },
      "source": [
        "# Step 14: Date on which the chat was highly active"
      ]
    },
    {
      "cell_type": "code",
      "execution_count": 33,
      "metadata": {
        "colab": {
          "base_uri": "https://localhost:8080/",
          "height": 453
        },
        "id": "AfYxNm-Vjs4y",
        "outputId": "073f2f16-c848-447b-fb71-d3d26b56ead3"
      },
      "outputs": [
        {
          "data": {
            "image/png": "[encoded data removed]",
            "text/plain": [
              "<Figure size 576x360 with 1 Axes>"
            ]
          },
          "metadata": {
            "needs_background": "light"
          },
          "output_type": "display_data"
        }
      ],
      "source": [
        "###---- Date on which the chat highly active.\n",
        "plt.figure(figsize=(8,5))\n",
        "df['Date'].value_counts().head(15).plot.bar()\n",
        "plt.xlabel('Date',fontdict={'fontsize': 14,'fontweight': 10})\n",
        "plt.ylabel('No. of messages',fontdict={'fontsize': 14,'fontweight': 10})\n",
        "plt.title('Analysis of Date on which chat was highly active',fontdict={'fontsize': 18,'fontweight': 8})\n",
        "plt.show()"
      ]
    },
    {
      "cell_type": "markdown",
      "metadata": {
        "id": "Zsqdfr1bsPgQ"
      },
      "source": [
        "# Step 15: Converting 12-hour formate to 24 hours will help us for better analysis"
      ]
    },
    {
      "cell_type": "code",
      "execution_count": 34,
      "metadata": {
        "id": "fvMoH-kGsfED"
      },
      "outputs": [],
      "source": [
        "lst = []\n",
        "for i in df['Time']:\n",
        "  out_time = datetime.strftime(datetime.strptime(i,\"%I:%M %p\"),\"%H:%M\")\n",
        "  lst.append(out_time)\n",
        "df['24H_Time'] = lst\n",
        "df['Hours'] = df['24H_Time'].apply(lambda x : x.split(':')[0])"
      ]
    },
    {
      "cell_type": "markdown",
      "metadata": {
        "id": "dQHDP-E_tJGy"
      },
      "source": [
        "# Step 16: Most suitable hour of the day whenever there will be more chances of getting a response from user"
      ]
    },
    {
      "cell_type": "code",
      "execution_count": 35,
      "metadata": {
        "colab": {
          "base_uri": "https://localhost:8080/",
          "height": 359
        },
        "id": "tiMMelqotLBy",
        "outputId": "e07e9625-9d82-4d7c-ae6e-ecc26b746dc4"
      },
      "outputs": [
        {
          "data": {
            "image/png": "[encoded data removed]",
            "text/plain": [
              "<Figure size 576x360 with 1 Axes>"
            ]
          },
          "metadata": {
            "needs_background": "light"
          },
          "output_type": "display_data"
        }
      ],
      "source": [
        "###------ Most suitable hour of day, whenever there will more chances of getting responce from group members.\n",
        "plt.figure(figsize=(8,5))\n",
        "std_time = df['Hours'].value_counts().head(15)\n",
        "s_T = std_time.plot.bar()\n",
        "s_T.yaxis.set_major_locator(MaxNLocator(integer=True))  #Converting y axis data to integer\n",
        "plt.xlabel('Hours (24-Hour)',fontdict={'fontsize': 12,'fontweight': 10})\n",
        "plt.ylabel('No. of messages',fontdict={'fontsize': 12,'fontweight': 10})\n",
        "plt.title('Most suitable hour of day.',fontdict={'fontsize': 18,'fontweight': 8})\n",
        "plt.show()"
      ]
    },
    {
      "cell_type": "code",
      "execution_count": null,
      "metadata": {},
      "outputs": [],
      "source": []
    }
  ],
  "metadata": {
    "colab": {
      "collapsed_sections": [],
      "name": "NLP_on_Whatsapp_Chat_using_python.ipynb",
      "provenance": []
    },
    "kernelspec": {
      "display_name": "Python 3",
      "name": "python3"
    },
    "language_info": {
      "codemirror_mode": {
        "name": "ipython",
        "version": 3
      },
      "file_extension": ".py",
      "mimetype": "text/x-python",
      "name": "python",
      "nbconvert_exporter": "python",
      "pygments_lexer": "ipython3",
      "version": "3.9.12"
    }
  },
  "nbformat": 4,
  "nbformat_minor": 0
}
